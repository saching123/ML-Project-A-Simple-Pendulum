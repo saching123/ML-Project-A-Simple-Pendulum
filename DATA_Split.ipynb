{
 "cells": [
  {
   "cell_type": "code",
   "execution_count": 42,
   "id": "e0c21c0a",
   "metadata": {},
   "outputs": [],
   "source": [
    "using DifferentialEquations\n",
    "using Plots\n",
    "using Flux\n",
    "using JLD\n",
    "using Lathe.preprocess: TrainTestSplit"
   ]
  },
  {
   "cell_type": "code",
   "execution_count": 88,
   "id": "caff9e8c",
   "metadata": {},
   "outputs": [
    {
     "name": "stdout",
     "output_type": "stream",
     "text": [
      "size time:101\n",
      "size data:101\n",
      "size of training and validation size:30"
     ]
    }
   ],
   "source": [
    "data = load(\"data.jld\")[\"data\"]\n",
    "time = load(\"time.jld\")[\"data\"]\n",
    "\n",
    "time = [i for i=time[1][1]:time[2]:time[1][2]]\n",
    "size_time = size(time)[1]\n",
    "size_data = size(data)[1]\n",
    "\n",
    "print(\"size time:\" , size_time , \"\\n\")\n",
    "print(\"size data:\" , size_data , \"\\n\")\n",
    "\n",
    "if size_time != size_data\n",
    "    print(\"Size ERROR!\")\n",
    "end\n",
    "\n",
    "size_train = Int(round(0.3 * size_data))\n",
    "index_data = [i for i=1:size_train]\n",
    "\n",
    "print(\"size of training and validation size:\" , size_train)"
   ]
  },
  {
   "cell_type": "code",
   "execution_count": 40,
   "id": "6e2440ed",
   "metadata": {},
   "outputs": [
    {
     "data": {
      "text/plain": [
       "SplitData (generic function with 1 method)"
      ]
     },
     "execution_count": 40,
     "metadata": {},
     "output_type": "execute_result"
    }
   ],
   "source": [
    "function SplitData(index_data) # should split the data 6:2:2 Train:Validation:Test.....But now only split it into 0.8 : 0.2\n",
    "    \n",
    "    train , test = TrainTestSplit(index_data,0.8)\n",
    "    \n",
    "    return train,  test\n",
    "    \n",
    "end"
   ]
  },
  {
   "cell_type": "code",
   "execution_count": 106,
   "id": "bfaceefb",
   "metadata": {},
   "outputs": [
    {
     "data": {
      "text/plain": [
       "([28, 25, 15, 2, 14, 30, 18, 17, 7, 6  …  9, 19, 20, 12, 13, 22, 8, 21, 24, 29], [23, 1, 3, 27, 4, 26])"
      ]
     },
     "execution_count": 106,
     "metadata": {},
     "output_type": "execute_result"
    }
   ],
   "source": [
    "index_train , index_val = SplitData(index_data)"
   ]
  },
  {
   "cell_type": "code",
   "execution_count": 121,
   "id": "045f17a2",
   "metadata": {},
   "outputs": [],
   "source": [
    "train_x = zeros(size(index_train))\n",
    "train_y = zeros(size(index_train))\n",
    "val_x = zeros(size(index_val))\n",
    "val_y = zeros(size(index_val))\n",
    "test_x = zeros(size_time - size_train)\n",
    "test_y = zeros(size_time - size_train)\n",
    "\n",
    "for i in 1 : size(index_train)[1] # construct the train set \n",
    "    index = index_train[i]\n",
    "    train_x[i] = time[index]\n",
    "    train_y[i] = data[index]\n",
    "end\n",
    "\n",
    "for i in 1 :size(index_val)[1] # construct the validation set \n",
    "    index = index_val[i]\n",
    "    val_x[i] = time[index]\n",
    "    val_y[i] = data[index]\n",
    "end\n",
    "\n",
    "for i in 1 : (size_time - size_train)\n",
    "    test_x[i] = time[i+size_train]\n",
    "    test_y[i] = data[i+size_train]\n",
    "end\n"
   ]
  },
  {
   "cell_type": "code",
   "execution_count": 126,
   "id": "041f1192",
   "metadata": {
    "scrolled": true
   },
   "outputs": [],
   "source": [
    "save(\"train_x.jld\", \"data\", train_x)\n",
    "save(\"train_y.jld\", \"data\", train_y)\n",
    "save(\"val_x.jld\", \"data\", val_x)\n",
    "save(\"val_y.jld\", \"data\", val_y)\n",
    "save(\"test_x.jld\", \"data\", test_x)\n",
    "save(\"test_y.jld\", \"data\", test_y)"
   ]
  }
 ],
 "metadata": {
  "kernelspec": {
   "display_name": "Julia 1.8.3",
   "language": "julia",
   "name": "julia-1.8"
  },
  "language_info": {
   "file_extension": ".jl",
   "mimetype": "application/julia",
   "name": "julia",
   "version": "1.8.3"
  }
 },
 "nbformat": 4,
 "nbformat_minor": 5
}
