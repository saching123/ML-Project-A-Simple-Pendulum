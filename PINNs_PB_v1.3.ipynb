{
 "cells": [
  {
   "cell_type": "markdown",
   "id": "df9cab04",
   "metadata": {},
   "source": [
    "# Libs and data"
   ]
  },
  {
   "cell_type": "code",
   "execution_count": 1,
   "id": "6e410086",
   "metadata": {},
   "outputs": [],
   "source": [
    "using Flux\n",
    "using Plots\n",
    "using DataFrames\n",
    "using CSV\n",
    "using Flux: params\n",
    "using Flux: train!\n",
    "using JLD\n",
    "using DifferentialEquations"
   ]
  },
  {
   "cell_type": "code",
   "execution_count": 3,
   "id": "966c9314",
   "metadata": {
    "scrolled": true
   },
   "outputs": [
    {
     "name": "stdout",
     "output_type": "stream",
     "text": [
      "Size of train_x:(1, 24)\n",
      "Size of train_y:(1, 24)\n",
      "Size of val_x:(1, 6)\n",
      "Size of val_y:(1, 6)\n",
      "Size of test_x:(1, 71)\n",
      "Size of test_y:(1, 71)\n"
     ]
    }
   ],
   "source": [
    "train_x = load(\"train_x.jld\")[\"data\"]'\n",
    "train_y = load(\"train_y.jld\")[\"data\"]'\n",
    "val_x = load(\"val_x.jld\")[\"data\"]'\n",
    "val_y = load(\"val_y.jld\")[\"data\"]'\n",
    "test_x = load(\"test_x.jld\")[\"data\"]'\n",
    "test_y = load(\"test_y.jld\")[\"data\"]'\n",
    "# const global real_data = load(\"data.jld\")[\"data\"]'\n",
    "print(\"Size of train_x:\" , size(train_x) , \"\\n\")\n",
    "print(\"Size of train_y:\" , size(train_y) , \"\\n\")\n",
    "print(\"Size of val_x:\" , size(val_x) , \"\\n\")\n",
    "print(\"Size of val_y:\" , size(val_y) , \"\\n\")\n",
    "print(\"Size of test_x:\" , size(test_x) , \"\\n\")\n",
    "print(\"Size of test_y:\" , size(test_y) , \"\\n\")\n",
    "# print(\"Size of real data:\" , size(real_data) , \"\\n\")"
   ]
  },
  {
   "cell_type": "markdown",
   "id": "668d80c5",
   "metadata": {},
   "source": [
    "# Construct the model"
   ]
  },
  {
   "cell_type": "code",
   "execution_count": 4,
   "id": "4da50184",
   "metadata": {},
   "outputs": [
    {
     "data": {
      "text/plain": [
       "0.00075"
      ]
     },
     "execution_count": 4,
     "metadata": {},
     "output_type": "execute_result"
    }
   ],
   "source": [
    "# The following kinds of activation function could be optimized.\n",
    "model  = Chain(\n",
    "    Dense(1,32,tanh),\n",
    "    Dense(32,32,gelu),\n",
    "#     Dense(64,64,leakyrelu),\n",
    "    Dense(32,1,tanh)\n",
    ")\n",
    "\n",
    "train_set = [(train_x ,train_y)]\n",
    "# data = [(x_train ,y_train)]\n",
    "learning_rate = 0.00075"
   ]
  },
  {
   "cell_type": "markdown",
   "id": "e7a718a6",
   "metadata": {},
   "source": [
    "# Construct loss fuction\n",
    "\n",
    "The loss function contains 2 parts: $LOSS_{NN}$ and $LOSS_{ODE}$"
   ]
  },
  {
   "cell_type": "code",
   "execution_count": 5,
   "id": "7ff49685",
   "metadata": {},
   "outputs": [
    {
     "data": {
      "text/plain": [
       "5"
      ]
     },
     "execution_count": 5,
     "metadata": {},
     "output_type": "execute_result"
    }
   ],
   "source": [
    "const global k = 300\n",
    "const global c = 5"
   ]
  },
  {
   "cell_type": "code",
   "execution_count": 6,
   "id": "a9e39996",
   "metadata": {},
   "outputs": [
    {
     "data": {
      "text/plain": [
       "loss_PINN (generic function with 1 method)"
      ]
     },
     "execution_count": 6,
     "metadata": {},
     "output_type": "execute_result"
    }
   ],
   "source": [
    "function loss_PINN(x,y)\n",
    "    \n",
    "    loss_NN = Flux.mse(model(x),y) # Get the loss of the neural network part\n",
    "    \n",
    "    # calculate the loss of ODE\n",
    "    x_1 = [i for i = 0:0.01:1]\n",
    "    \n",
    "    n = length(x_1)\n",
    "    NN = [model([a])[1] for a in x_1] # the output of the model\n",
    "    NN_p = zeros(n)\n",
    "    NN_pp = zeros(n)\n",
    "    dt = 1/(n-1)\n",
    "    \n",
    "    for i in 2:(n-1)\n",
    "       \n",
    "        NN_p[i] = (NN[i+1][1] - NN[i-1][1]) / dt\n",
    "        NN_pp[i] = (NN[i+1][1] - 2*NN[i][1] + NN[i-1][1]) / dt^2\n",
    "        \n",
    "    end\n",
    "    \n",
    "    loss_model = 300 * sum(NN) + 5 * sum(NN_p) + sum(NN_pp) \n",
    "    \n",
    "    loss = loss_model + loss_NN\n",
    "    \n",
    "    return loss\n",
    "    \n",
    "end"
   ]
  },
  {
   "cell_type": "code",
   "execution_count": 10,
   "id": "57bff3e4",
   "metadata": {},
   "outputs": [
    {
     "data": {
      "text/plain": [
       "loss_MSE (generic function with 1 method)"
      ]
     },
     "execution_count": 10,
     "metadata": {},
     "output_type": "execute_result"
    }
   ],
   "source": [
    "loss_MSE(x,y) = Flux.mse(model(x),y)"
   ]
  },
  {
   "cell_type": "markdown",
   "id": "5cd77b55",
   "metadata": {},
   "source": [
    "# Train"
   ]
  },
  {
   "cell_type": "code",
   "execution_count": 7,
   "id": "f1c1b865",
   "metadata": {
    "scrolled": true
   },
   "outputs": [
    {
     "ename": "LoadError",
     "evalue": "Mutating arrays is not supported -- called setindex!(::Vector{Float64}, _...)",
     "output_type": "error",
     "traceback": [
      "Mutating arrays is not supported -- called setindex!(::Vector{Float64}, _...)",
      "",
      "Stacktrace:",
      "  [1] error(s::String)",
      "    @ Base .\\error.jl:35",
      "  [2] (::Zygote.var\"#444#445\"{Vector{Float64}})(#unused#::Nothing)",
      "    @ Zygote C:\\Users\\15801\\.julia\\packages\\Zygote\\TaBlo\\src\\lib\\array.jl:76",
      "  [3] (::Zygote.var\"#2356#back#446\"{Zygote.var\"#444#445\"{Vector{Float64}}})(Δ::Nothing)",
      "    @ Zygote C:\\Users\\15801\\.julia\\packages\\ZygoteRules\\AIbCs\\src\\adjoint.jl:67",
      "  [4] Pullback",
      "    @ .\\In[6]:17 [inlined]",
      "  [5] (::typeof(∂(loss_PINN)))(Δ::Float64)",
      "    @ Zygote C:\\Users\\15801\\.julia\\packages\\Zygote\\TaBlo\\src\\compiler\\interface2.jl:0",
      "  [6] #215",
      "    @ C:\\Users\\15801\\.julia\\packages\\Zygote\\TaBlo\\src\\lib\\lib.jl:203 [inlined]",
      "  [7] #1761#back",
      "    @ C:\\Users\\15801\\.julia\\packages\\ZygoteRules\\AIbCs\\src\\adjoint.jl:67 [inlined]",
      "  [8] Pullback",
      "    @ C:\\Users\\15801\\.julia\\packages\\Flux\\7nTyc\\src\\optimise\\train.jl:110 [inlined]",
      "  [9] (::typeof(∂(λ)))(Δ::Float64)",
      "    @ Zygote C:\\Users\\15801\\.julia\\packages\\Zygote\\TaBlo\\src\\compiler\\interface2.jl:0",
      " [10] (::Zygote.var\"#96#97\"{Zygote.Params, typeof(∂(λ)), Zygote.Context})(Δ::Float64)",
      "    @ Zygote C:\\Users\\15801\\.julia\\packages\\Zygote\\TaBlo\\src\\compiler\\interface.jl:348",
      " [11] gradient(f::Function, args::Zygote.Params)",
      "    @ Zygote C:\\Users\\15801\\.julia\\packages\\Zygote\\TaBlo\\src\\compiler\\interface.jl:76",
      " [12] macro expansion",
      "    @ C:\\Users\\15801\\.julia\\packages\\Flux\\7nTyc\\src\\optimise\\train.jl:109 [inlined]",
      " [13] macro expansion",
      "    @ C:\\Users\\15801\\.julia\\packages\\Juno\\n6wyj\\src\\progress.jl:134 [inlined]",
      " [14] train!(loss::Function, ps::Zygote.Params, data::Vector{Tuple{LinearAlgebra.Adjoint{Float64, Vector{Float64}}, LinearAlgebra.Adjoint{Float64, Vector{Float64}}}}, opt::ADAM; cb::Flux.Optimise.var\"#40#46\")",
      "    @ Flux.Optimise C:\\Users\\15801\\.julia\\packages\\Flux\\7nTyc\\src\\optimise\\train.jl:107",
      " [15] train!(loss::Function, ps::Zygote.Params, data::Vector{Tuple{LinearAlgebra.Adjoint{Float64, Vector{Float64}}, LinearAlgebra.Adjoint{Float64, Vector{Float64}}}}, opt::ADAM)",
      "    @ Flux.Optimise C:\\Users\\15801\\.julia\\packages\\Flux\\7nTyc\\src\\optimise\\train.jl:104",
      " [16] top-level scope",
      "    @ .\\In[7]:10"
     ]
    }
   ],
   "source": [
    "opt = ADAM(learning_rate)\n",
    "# opt = Flux.Descent(0.01)\n",
    "epochs = 40\n",
    "# train_loss = Array{Float32}(undef, epochs)\n",
    "train_loss = zeros(epochs)\n",
    "\n",
    "for i in 1:epochs\n",
    "    \n",
    "#     train!(loss_PINN,params(model), train_set, opt)\n",
    "    train!(loss_PINN,params(model), train_set, opt)\n",
    "    train_loss[i] = loss_PINN(train_x,train_y)\n",
    "    \n",
    "end\n",
    "\n",
    "plot(train_loss)"
   ]
  },
  {
   "cell_type": "code",
   "execution_count": 22,
   "id": "4b8af6ad",
   "metadata": {},
   "outputs": [
    {
     "data": {
      "image/svg+xml": [
       "<?xml version=\"1.0\" encoding=\"utf-8\"?>\n",
       "<svg xmlns=\"http://www.w3.org/2000/svg\" xmlns:xlink=\"http://www.w3.org/1999/xlink\" width=\"600\" height=\"400\" viewBox=\"0 0 2400 1600\">\n",
       "<defs>\n",
       "  <clipPath id=\"clip060\">\n",
       "    <rect x=\"0\" y=\"0\" width=\"2400\" height=\"1600\"/>\n",
       "  </clipPath>\n",
       "</defs>\n",
       "<path clip-path=\"url(#clip060)\" d=\"\n",
       "M0 1600 L2400 1600 L2400 0 L0 0  Z\n",
       "  \" fill=\"#ffffff\" fill-rule=\"evenodd\" fill-opacity=\"1\"/>\n",
       "<defs>\n",
       "  <clipPath id=\"clip061\">\n",
       "    <rect x=\"480\" y=\"0\" width=\"1681\" height=\"1600\"/>\n",
       "  </clipPath>\n",
       "</defs>\n",
       "<path clip-path=\"url(#clip060)\" d=\"\n",
       "M193.936 1486.45 L2352.76 1486.45 L2352.76 47.2441 L193.936 47.2441  Z\n",
       "  \" fill=\"#ffffff\" fill-rule=\"evenodd\" fill-opacity=\"1\"/>\n",
       "<defs>\n",
       "  <clipPath id=\"clip062\">\n",
       "    <rect x=\"193\" y=\"47\" width=\"2160\" height=\"1440\"/>\n",
       "  </clipPath>\n",
       "</defs>\n",
       "<polyline clip-path=\"url(#clip062)\" style=\"stroke:#000000; stroke-linecap:round; stroke-linejoin:round; stroke-width:2; stroke-opacity:0.1; fill:none\" points=\"\n",
       "  609.23,1486.45 609.23,47.2441 \n",
       "  \"/>\n",
       "<polyline clip-path=\"url(#clip062)\" style=\"stroke:#000000; stroke-linecap:round; stroke-linejoin:round; stroke-width:2; stroke-opacity:0.1; fill:none\" points=\"\n",
       "  1051.97,1486.45 1051.97,47.2441 \n",
       "  \"/>\n",
       "<polyline clip-path=\"url(#clip062)\" style=\"stroke:#000000; stroke-linecap:round; stroke-linejoin:round; stroke-width:2; stroke-opacity:0.1; fill:none\" points=\"\n",
       "  1494.72,1486.45 1494.72,47.2441 \n",
       "  \"/>\n",
       "<polyline clip-path=\"url(#clip062)\" style=\"stroke:#000000; stroke-linecap:round; stroke-linejoin:round; stroke-width:2; stroke-opacity:0.1; fill:none\" points=\"\n",
       "  1937.46,1486.45 1937.46,47.2441 \n",
       "  \"/>\n",
       "<polyline clip-path=\"url(#clip060)\" style=\"stroke:#000000; stroke-linecap:round; stroke-linejoin:round; stroke-width:4; stroke-opacity:1; fill:none\" points=\"\n",
       "  193.936,1486.45 2352.76,1486.45 \n",
       "  \"/>\n",
       "<polyline clip-path=\"url(#clip060)\" style=\"stroke:#000000; stroke-linecap:round; stroke-linejoin:round; stroke-width:4; stroke-opacity:1; fill:none\" points=\"\n",
       "  609.23,1486.45 609.23,1467.55 \n",
       "  \"/>\n",
       "<polyline clip-path=\"url(#clip060)\" style=\"stroke:#000000; stroke-linecap:round; stroke-linejoin:round; stroke-width:4; stroke-opacity:1; fill:none\" points=\"\n",
       "  1051.97,1486.45 1051.97,1467.55 \n",
       "  \"/>\n",
       "<polyline clip-path=\"url(#clip060)\" style=\"stroke:#000000; stroke-linecap:round; stroke-linejoin:round; stroke-width:4; stroke-opacity:1; fill:none\" points=\"\n",
       "  1494.72,1486.45 1494.72,1467.55 \n",
       "  \"/>\n",
       "<polyline clip-path=\"url(#clip060)\" style=\"stroke:#000000; stroke-linecap:round; stroke-linejoin:round; stroke-width:4; stroke-opacity:1; fill:none\" points=\"\n",
       "  1937.46,1486.45 1937.46,1467.55 \n",
       "  \"/>\n",
       "<path clip-path=\"url(#clip060)\" d=\"M599.508 1514.29 L617.864 1514.29 L617.864 1518.22 L603.79 1518.22 L603.79 1526.7 Q604.809 1526.35 605.827 1526.19 Q606.846 1526 607.864 1526 Q613.651 1526 617.031 1529.17 Q620.41 1532.34 620.41 1537.76 Q620.41 1543.34 616.938 1546.44 Q613.466 1549.52 607.147 1549.52 Q604.971 1549.52 602.702 1549.15 Q600.457 1548.78 598.049 1548.04 L598.049 1543.34 Q600.133 1544.47 602.355 1545.03 Q604.577 1545.58 607.054 1545.58 Q611.059 1545.58 613.397 1543.48 Q615.734 1541.37 615.734 1537.76 Q615.734 1534.15 613.397 1532.04 Q611.059 1529.94 607.054 1529.94 Q605.179 1529.94 603.304 1530.35 Q601.452 1530.77 599.508 1531.65 L599.508 1514.29 Z\" fill=\"#000000\" fill-rule=\"evenodd\" fill-opacity=\"1\" /><path clip-path=\"url(#clip060)\" d=\"M1026.66 1544.91 L1034.3 1544.91 L1034.3 1518.55 L1025.99 1520.21 L1025.99 1515.95 L1034.25 1514.29 L1038.93 1514.29 L1038.93 1544.91 L1046.57 1544.91 L1046.57 1548.85 L1026.66 1548.85 L1026.66 1544.91 Z\" fill=\"#000000\" fill-rule=\"evenodd\" fill-opacity=\"1\" /><path clip-path=\"url(#clip060)\" d=\"M1066.01 1517.37 Q1062.4 1517.37 1060.57 1520.93 Q1058.77 1524.47 1058.77 1531.6 Q1058.77 1538.71 1060.57 1542.27 Q1062.4 1545.82 1066.01 1545.82 Q1069.65 1545.82 1071.45 1542.27 Q1073.28 1538.71 1073.28 1531.6 Q1073.28 1524.47 1071.45 1520.93 Q1069.65 1517.37 1066.01 1517.37 M1066.01 1513.66 Q1071.82 1513.66 1074.88 1518.27 Q1077.96 1522.85 1077.96 1531.6 Q1077.96 1540.33 1074.88 1544.94 Q1071.82 1549.52 1066.01 1549.52 Q1060.2 1549.52 1057.12 1544.94 Q1054.07 1540.33 1054.07 1531.6 Q1054.07 1522.85 1057.12 1518.27 Q1060.2 1513.66 1066.01 1513.66 Z\" fill=\"#000000\" fill-rule=\"evenodd\" fill-opacity=\"1\" /><path clip-path=\"url(#clip060)\" d=\"M1469.9 1544.91 L1477.54 1544.91 L1477.54 1518.55 L1469.23 1520.21 L1469.23 1515.95 L1477.5 1514.29 L1482.17 1514.29 L1482.17 1544.91 L1489.81 1544.91 L1489.81 1548.85 L1469.9 1548.85 L1469.9 1544.91 Z\" fill=\"#000000\" fill-rule=\"evenodd\" fill-opacity=\"1\" /><path clip-path=\"url(#clip060)\" d=\"M1499.3 1514.29 L1517.66 1514.29 L1517.66 1518.22 L1503.58 1518.22 L1503.58 1526.7 Q1504.6 1526.35 1505.62 1526.19 Q1506.64 1526 1507.66 1526 Q1513.44 1526 1516.82 1529.17 Q1520.2 1532.34 1520.2 1537.76 Q1520.2 1543.34 1516.73 1546.44 Q1513.26 1549.52 1506.94 1549.52 Q1504.76 1549.52 1502.5 1549.15 Q1500.25 1548.78 1497.84 1548.04 L1497.84 1543.34 Q1499.93 1544.47 1502.15 1545.03 Q1504.37 1545.58 1506.85 1545.58 Q1510.85 1545.58 1513.19 1543.48 Q1515.53 1541.37 1515.53 1537.76 Q1515.53 1534.15 1513.19 1532.04 Q1510.85 1529.94 1506.85 1529.94 Q1504.97 1529.94 1503.1 1530.35 Q1501.25 1530.77 1499.3 1531.65 L1499.3 1514.29 Z\" fill=\"#000000\" fill-rule=\"evenodd\" fill-opacity=\"1\" /><path clip-path=\"url(#clip060)\" d=\"M1916.24 1544.91 L1932.55 1544.91 L1932.55 1548.85 L1910.61 1548.85 L1910.61 1544.91 Q1913.27 1542.16 1917.86 1537.53 Q1922.46 1532.88 1923.64 1531.53 Q1925.89 1529.01 1926.77 1527.27 Q1927.67 1525.51 1927.67 1523.82 Q1927.67 1521.07 1925.73 1519.33 Q1923.8 1517.6 1920.7 1517.6 Q1918.5 1517.6 1916.05 1518.36 Q1913.62 1519.13 1910.84 1520.68 L1910.84 1515.95 Q1913.67 1514.82 1916.12 1514.24 Q1918.57 1513.66 1920.61 1513.66 Q1925.98 1513.66 1929.18 1516.35 Q1932.37 1519.03 1932.37 1523.52 Q1932.37 1525.65 1931.56 1527.57 Q1930.77 1529.47 1928.67 1532.07 Q1928.09 1532.74 1924.99 1535.95 Q1921.88 1539.15 1916.24 1544.91 Z\" fill=\"#000000\" fill-rule=\"evenodd\" fill-opacity=\"1\" /><path clip-path=\"url(#clip060)\" d=\"M1952.37 1517.37 Q1948.76 1517.37 1946.93 1520.93 Q1945.12 1524.47 1945.12 1531.6 Q1945.12 1538.71 1946.93 1542.27 Q1948.76 1545.82 1952.37 1545.82 Q1956 1545.82 1957.81 1542.27 Q1959.64 1538.71 1959.64 1531.6 Q1959.64 1524.47 1957.81 1520.93 Q1956 1517.37 1952.37 1517.37 M1952.37 1513.66 Q1958.18 1513.66 1961.24 1518.27 Q1964.31 1522.85 1964.31 1531.6 Q1964.31 1540.33 1961.24 1544.94 Q1958.18 1549.52 1952.37 1549.52 Q1946.56 1549.52 1943.48 1544.94 Q1940.42 1540.33 1940.42 1531.6 Q1940.42 1522.85 1943.48 1518.27 Q1946.56 1513.66 1952.37 1513.66 Z\" fill=\"#000000\" fill-rule=\"evenodd\" fill-opacity=\"1\" /><polyline clip-path=\"url(#clip062)\" style=\"stroke:#000000; stroke-linecap:round; stroke-linejoin:round; stroke-width:2; stroke-opacity:0.1; fill:none\" points=\"\n",
       "  193.936,1445.72 2352.76,1445.72 \n",
       "  \"/>\n",
       "<polyline clip-path=\"url(#clip062)\" style=\"stroke:#000000; stroke-linecap:round; stroke-linejoin:round; stroke-width:2; stroke-opacity:0.1; fill:none\" points=\"\n",
       "  193.936,1103.76 2352.76,1103.76 \n",
       "  \"/>\n",
       "<polyline clip-path=\"url(#clip062)\" style=\"stroke:#000000; stroke-linecap:round; stroke-linejoin:round; stroke-width:2; stroke-opacity:0.1; fill:none\" points=\"\n",
       "  193.936,761.814 2352.76,761.814 \n",
       "  \"/>\n",
       "<polyline clip-path=\"url(#clip062)\" style=\"stroke:#000000; stroke-linecap:round; stroke-linejoin:round; stroke-width:2; stroke-opacity:0.1; fill:none\" points=\"\n",
       "  193.936,419.863 2352.76,419.863 \n",
       "  \"/>\n",
       "<polyline clip-path=\"url(#clip062)\" style=\"stroke:#000000; stroke-linecap:round; stroke-linejoin:round; stroke-width:2; stroke-opacity:0.1; fill:none\" points=\"\n",
       "  193.936,77.9116 2352.76,77.9116 \n",
       "  \"/>\n",
       "<polyline clip-path=\"url(#clip060)\" style=\"stroke:#000000; stroke-linecap:round; stroke-linejoin:round; stroke-width:4; stroke-opacity:1; fill:none\" points=\"\n",
       "  193.936,1486.45 193.936,47.2441 \n",
       "  \"/>\n",
       "<polyline clip-path=\"url(#clip060)\" style=\"stroke:#000000; stroke-linecap:round; stroke-linejoin:round; stroke-width:4; stroke-opacity:1; fill:none\" points=\"\n",
       "  193.936,1445.72 212.834,1445.72 \n",
       "  \"/>\n",
       "<polyline clip-path=\"url(#clip060)\" style=\"stroke:#000000; stroke-linecap:round; stroke-linejoin:round; stroke-width:4; stroke-opacity:1; fill:none\" points=\"\n",
       "  193.936,1103.76 212.834,1103.76 \n",
       "  \"/>\n",
       "<polyline clip-path=\"url(#clip060)\" style=\"stroke:#000000; stroke-linecap:round; stroke-linejoin:round; stroke-width:4; stroke-opacity:1; fill:none\" points=\"\n",
       "  193.936,761.814 212.834,761.814 \n",
       "  \"/>\n",
       "<polyline clip-path=\"url(#clip060)\" style=\"stroke:#000000; stroke-linecap:round; stroke-linejoin:round; stroke-width:4; stroke-opacity:1; fill:none\" points=\"\n",
       "  193.936,419.863 212.834,419.863 \n",
       "  \"/>\n",
       "<polyline clip-path=\"url(#clip060)\" style=\"stroke:#000000; stroke-linecap:round; stroke-linejoin:round; stroke-width:4; stroke-opacity:1; fill:none\" points=\"\n",
       "  193.936,77.9116 212.834,77.9116 \n",
       "  \"/>\n",
       "<path clip-path=\"url(#clip060)\" d=\"M50.9921 1446.17 L80.6679 1446.17 L80.6679 1450.1 L50.9921 1450.1 L50.9921 1446.17 Z\" fill=\"#000000\" fill-rule=\"evenodd\" fill-opacity=\"1\" /><path clip-path=\"url(#clip060)\" d=\"M91.5706 1459.06 L99.2095 1459.06 L99.2095 1432.69 L90.8993 1434.36 L90.8993 1430.1 L99.1632 1428.44 L103.839 1428.44 L103.839 1459.06 L111.478 1459.06 L111.478 1463 L91.5706 1463 L91.5706 1459.06 Z\" fill=\"#000000\" fill-rule=\"evenodd\" fill-opacity=\"1\" /><path clip-path=\"url(#clip060)\" d=\"M120.922 1457.12 L125.807 1457.12 L125.807 1463 L120.922 1463 L120.922 1457.12 Z\" fill=\"#000000\" fill-rule=\"evenodd\" fill-opacity=\"1\" /><path clip-path=\"url(#clip060)\" d=\"M145.992 1431.51 Q142.381 1431.51 140.552 1435.08 Q138.746 1438.62 138.746 1445.75 Q138.746 1452.86 140.552 1456.42 Q142.381 1459.96 145.992 1459.96 Q149.626 1459.96 151.431 1456.42 Q153.26 1452.86 153.26 1445.75 Q153.26 1438.62 151.431 1435.08 Q149.626 1431.51 145.992 1431.51 M145.992 1427.81 Q151.802 1427.81 154.857 1432.42 Q157.936 1437 157.936 1445.75 Q157.936 1454.48 154.857 1459.08 Q151.802 1463.67 145.992 1463.67 Q140.181 1463.67 137.103 1459.08 Q134.047 1454.48 134.047 1445.75 Q134.047 1437 137.103 1432.42 Q140.181 1427.81 145.992 1427.81 Z\" fill=\"#000000\" fill-rule=\"evenodd\" fill-opacity=\"1\" /><path clip-path=\"url(#clip060)\" d=\"M51.9875 1104.22 L81.6633 1104.22 L81.6633 1108.15 L51.9875 1108.15 L51.9875 1104.22 Z\" fill=\"#000000\" fill-rule=\"evenodd\" fill-opacity=\"1\" /><path clip-path=\"url(#clip060)\" d=\"M101.756 1089.56 Q98.1447 1089.56 96.316 1093.13 Q94.5104 1096.67 94.5104 1103.8 Q94.5104 1110.91 96.316 1114.47 Q98.1447 1118.01 101.756 1118.01 Q105.39 1118.01 107.196 1114.47 Q109.024 1110.91 109.024 1103.8 Q109.024 1096.67 107.196 1093.13 Q105.39 1089.56 101.756 1089.56 M101.756 1085.86 Q107.566 1085.86 110.621 1090.47 Q113.7 1095.05 113.7 1103.8 Q113.7 1112.53 110.621 1117.13 Q107.566 1121.72 101.756 1121.72 Q95.9456 1121.72 92.8669 1117.13 Q89.8114 1112.53 89.8114 1103.8 Q89.8114 1095.05 92.8669 1090.47 Q95.9456 1085.86 101.756 1085.86 Z\" fill=\"#000000\" fill-rule=\"evenodd\" fill-opacity=\"1\" /><path clip-path=\"url(#clip060)\" d=\"M121.918 1115.17 L126.802 1115.17 L126.802 1121.04 L121.918 1121.04 L121.918 1115.17 Z\" fill=\"#000000\" fill-rule=\"evenodd\" fill-opacity=\"1\" /><path clip-path=\"url(#clip060)\" d=\"M137.033 1086.48 L155.39 1086.48 L155.39 1090.42 L141.316 1090.42 L141.316 1098.89 Q142.334 1098.54 143.353 1098.38 Q144.371 1098.2 145.39 1098.2 Q151.177 1098.2 154.556 1101.37 Q157.936 1104.54 157.936 1109.96 Q157.936 1115.54 154.464 1118.64 Q150.992 1121.72 144.672 1121.72 Q142.496 1121.72 140.228 1121.35 Q137.982 1120.98 135.575 1120.23 L135.575 1115.54 Q137.658 1116.67 139.881 1117.23 Q142.103 1117.78 144.58 1117.78 Q148.584 1117.78 150.922 1115.67 Q153.26 1113.57 153.26 1109.96 Q153.26 1106.35 150.922 1104.24 Q148.584 1102.13 144.58 1102.13 Q142.705 1102.13 140.83 1102.55 Q138.978 1102.97 137.033 1103.85 L137.033 1086.48 Z\" fill=\"#000000\" fill-rule=\"evenodd\" fill-opacity=\"1\" /><path clip-path=\"url(#clip060)\" d=\"M100.76 747.612 Q97.1493 747.612 95.3206 751.177 Q93.515 754.719 93.515 761.848 Q93.515 768.955 95.3206 772.52 Q97.1493 776.061 100.76 776.061 Q104.395 776.061 106.2 772.52 Q108.029 768.955 108.029 761.848 Q108.029 754.719 106.2 751.177 Q104.395 747.612 100.76 747.612 M100.76 743.909 Q106.571 743.909 109.626 748.515 Q112.705 753.098 112.705 761.848 Q112.705 770.575 109.626 775.182 Q106.571 779.765 100.76 779.765 Q94.9502 779.765 91.8715 775.182 Q88.816 770.575 88.816 761.848 Q88.816 753.098 91.8715 748.515 Q94.9502 743.909 100.76 743.909 Z\" fill=\"#000000\" fill-rule=\"evenodd\" fill-opacity=\"1\" /><path clip-path=\"url(#clip060)\" d=\"M120.922 773.214 L125.807 773.214 L125.807 779.094 L120.922 779.094 L120.922 773.214 Z\" fill=\"#000000\" fill-rule=\"evenodd\" fill-opacity=\"1\" /><path clip-path=\"url(#clip060)\" d=\"M145.992 747.612 Q142.381 747.612 140.552 751.177 Q138.746 754.719 138.746 761.848 Q138.746 768.955 140.552 772.52 Q142.381 776.061 145.992 776.061 Q149.626 776.061 151.431 772.52 Q153.26 768.955 153.26 761.848 Q153.26 754.719 151.431 751.177 Q149.626 747.612 145.992 747.612 M145.992 743.909 Q151.802 743.909 154.857 748.515 Q157.936 753.098 157.936 761.848 Q157.936 770.575 154.857 775.182 Q151.802 779.765 145.992 779.765 Q140.181 779.765 137.103 775.182 Q134.047 770.575 134.047 761.848 Q134.047 753.098 137.103 748.515 Q140.181 743.909 145.992 743.909 Z\" fill=\"#000000\" fill-rule=\"evenodd\" fill-opacity=\"1\" /><path clip-path=\"url(#clip060)\" d=\"M101.756 405.661 Q98.1447 405.661 96.316 409.226 Q94.5104 412.768 94.5104 419.897 Q94.5104 427.004 96.316 430.569 Q98.1447 434.11 101.756 434.11 Q105.39 434.11 107.196 430.569 Q109.024 427.004 109.024 419.897 Q109.024 412.768 107.196 409.226 Q105.39 405.661 101.756 405.661 M101.756 401.958 Q107.566 401.958 110.621 406.564 Q113.7 411.147 113.7 419.897 Q113.7 428.624 110.621 433.231 Q107.566 437.814 101.756 437.814 Q95.9456 437.814 92.8669 433.231 Q89.8114 428.624 89.8114 419.897 Q89.8114 411.147 92.8669 406.564 Q95.9456 401.958 101.756 401.958 Z\" fill=\"#000000\" fill-rule=\"evenodd\" fill-opacity=\"1\" /><path clip-path=\"url(#clip060)\" d=\"M121.918 431.263 L126.802 431.263 L126.802 437.143 L121.918 437.143 L121.918 431.263 Z\" fill=\"#000000\" fill-rule=\"evenodd\" fill-opacity=\"1\" /><path clip-path=\"url(#clip060)\" d=\"M137.033 402.583 L155.39 402.583 L155.39 406.518 L141.316 406.518 L141.316 414.99 Q142.334 414.643 143.353 414.481 Q144.371 414.295 145.39 414.295 Q151.177 414.295 154.556 417.467 Q157.936 420.638 157.936 426.055 Q157.936 431.633 154.464 434.735 Q150.992 437.814 144.672 437.814 Q142.496 437.814 140.228 437.444 Q137.982 437.073 135.575 436.332 L135.575 431.633 Q137.658 432.768 139.881 433.323 Q142.103 433.879 144.58 433.879 Q148.584 433.879 150.922 431.772 Q153.26 429.666 153.26 426.055 Q153.26 422.444 150.922 420.337 Q148.584 418.231 144.58 418.231 Q142.705 418.231 140.83 418.647 Q138.978 419.064 137.033 419.944 L137.033 402.583 Z\" fill=\"#000000\" fill-rule=\"evenodd\" fill-opacity=\"1\" /><path clip-path=\"url(#clip060)\" d=\"M91.5706 91.2564 L99.2095 91.2564 L99.2095 64.8908 L90.8993 66.5575 L90.8993 62.2982 L99.1632 60.6316 L103.839 60.6316 L103.839 91.2564 L111.478 91.2564 L111.478 95.1916 L91.5706 95.1916 L91.5706 91.2564 Z\" fill=\"#000000\" fill-rule=\"evenodd\" fill-opacity=\"1\" /><path clip-path=\"url(#clip060)\" d=\"M120.922 89.312 L125.807 89.312 L125.807 95.1916 L120.922 95.1916 L120.922 89.312 Z\" fill=\"#000000\" fill-rule=\"evenodd\" fill-opacity=\"1\" /><path clip-path=\"url(#clip060)\" d=\"M145.992 63.7103 Q142.381 63.7103 140.552 67.275 Q138.746 70.8167 138.746 77.9463 Q138.746 85.0527 140.552 88.6175 Q142.381 92.1592 145.992 92.1592 Q149.626 92.1592 151.431 88.6175 Q153.26 85.0527 153.26 77.9463 Q153.26 70.8167 151.431 67.275 Q149.626 63.7103 145.992 63.7103 M145.992 60.0066 Q151.802 60.0066 154.857 64.613 Q157.936 69.1963 157.936 77.9463 Q157.936 86.6731 154.857 91.2796 Q151.802 95.8629 145.992 95.8629 Q140.181 95.8629 137.103 91.2796 Q134.047 86.6731 134.047 77.9463 Q134.047 69.1963 137.103 64.613 Q140.181 60.0066 145.992 60.0066 Z\" fill=\"#000000\" fill-rule=\"evenodd\" fill-opacity=\"1\" /><polyline clip-path=\"url(#clip062)\" style=\"stroke:#009af9; stroke-linecap:round; stroke-linejoin:round; stroke-width:4; stroke-opacity:1; fill:none\" points=\"\n",
       "  255.035,1445.72 343.583,1445.72 432.132,1445.72 520.681,1445.72 609.23,1445.72 697.779,1445.72 786.328,1445.72 874.876,1445.72 963.425,1445.72 1051.97,1445.72 \n",
       "  1140.52,1445.72 1229.07,1445.72 1317.62,1445.72 1406.17,1445.72 1494.72,1445.72 1583.27,1445.72 1671.82,1445.72 1760.36,1445.72 1848.91,1445.72 1937.46,1445.72 \n",
       "  2026.01,1445.72 2114.56,1445.72 2203.11,1445.72 2291.66,1445.72 \n",
       "  \"/>\n",
       "<polyline clip-path=\"url(#clip062)\" style=\"stroke:#e26f46; stroke-linecap:round; stroke-linejoin:round; stroke-width:4; stroke-opacity:1; fill:none\" points=\"\n",
       "  255.035,841.831 343.583,1018.5 432.132,1069.51 520.681,87.9763 609.23,1006.65 697.779,723.908 786.328,1182.57 874.876,1158.18 963.425,384.424 1051.97,300.111 \n",
       "  1140.52,1120.33 1229.07,666.759 1317.62,760.932 1406.17,225.663 1494.72,570.716 1583.27,1193.52 1671.82,1191.37 1760.36,850.517 1848.91,933.099 1937.46,1150.76 \n",
       "  2026.01,475.623 2114.56,1176.78 2203.11,1069.97 2291.66,781.711 \n",
       "  \"/>\n",
       "<path clip-path=\"url(#clip060)\" d=\"\n",
       "M2012.48 250.738 L2280.8 250.738 L2280.8 95.2176 L2012.48 95.2176  Z\n",
       "  \" fill=\"#ffffff\" fill-rule=\"evenodd\" fill-opacity=\"1\"/>\n",
       "<polyline clip-path=\"url(#clip060)\" style=\"stroke:#000000; stroke-linecap:round; stroke-linejoin:round; stroke-width:4; stroke-opacity:1; fill:none\" points=\"\n",
       "  2012.48,250.738 2280.8,250.738 2280.8,95.2176 2012.48,95.2176 2012.48,250.738 \n",
       "  \"/>\n",
       "<polyline clip-path=\"url(#clip060)\" style=\"stroke:#009af9; stroke-linecap:round; stroke-linejoin:round; stroke-width:4; stroke-opacity:1; fill:none\" points=\"\n",
       "  2036.47,147.058 2180.39,147.058 \n",
       "  \"/>\n",
       "<path clip-path=\"url(#clip060)\" d=\"M2218.22 166.745 Q2216.42 171.375 2214.7 172.787 Q2212.99 174.199 2210.12 174.199 L2206.72 174.199 L2206.72 170.634 L2209.22 170.634 Q2210.98 170.634 2211.95 169.8 Q2212.92 168.967 2214.1 165.865 L2214.86 163.921 L2204.38 138.412 L2208.89 138.412 L2216.99 158.689 L2225.1 138.412 L2229.61 138.412 L2218.22 166.745 Z\" fill=\"#000000\" fill-rule=\"evenodd\" fill-opacity=\"1\" /><path clip-path=\"url(#clip060)\" d=\"M2236.9 160.402 L2244.54 160.402 L2244.54 134.037 L2236.23 135.703 L2236.23 131.444 L2244.49 129.778 L2249.17 129.778 L2249.17 160.402 L2256.81 160.402 L2256.81 164.338 L2236.9 164.338 L2236.9 160.402 Z\" fill=\"#000000\" fill-rule=\"evenodd\" fill-opacity=\"1\" /><polyline clip-path=\"url(#clip060)\" style=\"stroke:#e26f46; stroke-linecap:round; stroke-linejoin:round; stroke-width:4; stroke-opacity:1; fill:none\" points=\"\n",
       "  2036.47,198.898 2180.39,198.898 \n",
       "  \"/>\n",
       "<path clip-path=\"url(#clip060)\" d=\"M2218.22 218.585 Q2216.42 223.215 2214.7 224.627 Q2212.99 226.039 2210.12 226.039 L2206.72 226.039 L2206.72 222.474 L2209.22 222.474 Q2210.98 222.474 2211.95 221.64 Q2212.92 220.807 2214.1 217.705 L2214.86 215.761 L2204.38 190.252 L2208.89 190.252 L2216.99 210.529 L2225.1 190.252 L2229.61 190.252 L2218.22 218.585 Z\" fill=\"#000000\" fill-rule=\"evenodd\" fill-opacity=\"1\" /><path clip-path=\"url(#clip060)\" d=\"M2240.12 212.242 L2256.44 212.242 L2256.44 216.178 L2234.49 216.178 L2234.49 212.242 Q2237.16 209.488 2241.74 204.858 Q2246.35 200.205 2247.53 198.863 Q2249.77 196.34 2250.65 194.604 Q2251.55 192.844 2251.55 191.155 Q2251.55 188.4 2249.61 186.664 Q2247.69 184.928 2244.59 184.928 Q2242.39 184.928 2239.93 185.692 Q2237.5 186.455 2234.73 188.006 L2234.73 183.284 Q2237.55 182.15 2240 181.571 Q2242.46 180.993 2244.49 180.993 Q2249.86 180.993 2253.06 183.678 Q2256.25 186.363 2256.25 190.854 Q2256.25 192.983 2255.44 194.905 Q2254.66 196.803 2252.55 199.395 Q2251.97 200.067 2248.87 203.284 Q2245.77 206.479 2240.12 212.242 Z\" fill=\"#000000\" fill-rule=\"evenodd\" fill-opacity=\"1\" /></svg>\n"
      ]
     },
     "execution_count": 22,
     "metadata": {},
     "output_type": "execute_result"
    }
   ],
   "source": [
    "#time = [i for i=1:101]'\n",
    "test_y_pre = model(train_x)\n",
    "# print(test_y_pre)\n",
    "# print(train_y)\n",
    "plot([test_y_pre' , train_y'])"
   ]
  }
 ],
 "metadata": {
  "kernelspec": {
   "display_name": "Julia 1.8.3",
   "language": "julia",
   "name": "julia-1.8"
  },
  "language_info": {
   "file_extension": ".jl",
   "mimetype": "application/julia",
   "name": "julia",
   "version": "1.8.3"
  }
 },
 "nbformat": 4,
 "nbformat_minor": 5
}
